{
 "cells": [
  {
   "cell_type": "code",
   "execution_count": 2,
   "id": "dd1a839b",
   "metadata": {},
   "outputs": [],
   "source": [
    "import pandas as pd \n",
    "import numpy as np"
   ]
  },
  {
   "cell_type": "code",
   "execution_count": 7,
   "id": "d99c0f14",
   "metadata": {},
   "outputs": [],
   "source": [
    "tess_data = pd.read_csv(\"../data/TOI_2025.10.04_08.44.51.csv\", skiprows=69)\n",
    "kepler_data = pd.read_csv(\"../data/cumulative_2025.10.04_08.44.42.csv\", skiprows=53)\n",
    "k2_data = pd.read_csv(\"../data/k2pandc_2025.10.04_08.44.58.csv\", skiprows=98)"
   ]
  },
  {
   "cell_type": "code",
   "execution_count": 8,
   "id": "b85517ea",
   "metadata": {},
   "outputs": [
    {
     "name": "stdout",
     "output_type": "stream",
     "text": [
      "Tess data shape: (7703, 65)\n",
      "Kepler data shape: (9564, 49)\n",
      "K2 data shape: (4004, 94)\n"
     ]
    }
   ],
   "source": [
    "print(\"Tess data shape:\", tess_data.shape)\n",
    "print(\"Kepler data shape:\", kepler_data.shape)\n",
    "print(\"K2 data shape:\", k2_data.shape)"
   ]
  },
  {
   "cell_type": "code",
   "execution_count": 9,
   "id": "29015f80",
   "metadata": {},
   "outputs": [
    {
     "name": "stdout",
     "output_type": "stream",
     "text": [
      "Tess missing values:\n",
      " toi               0\n",
      "tid               0\n",
      "tfopwg_disp       0\n",
      "rastr             0\n",
      "ra                0\n",
      "               ... \n",
      "st_raderr1     1963\n",
      "st_raderr2     1963\n",
      "st_radlim         0\n",
      "toi_created       0\n",
      "rowupdate         0\n",
      "Length: 65, dtype: int64\n",
      "Kepler missing values:\n",
      " kepid                   0\n",
      "kepoi_name              0\n",
      "kepler_name          6817\n",
      "koi_disposition         0\n",
      "koi_pdisposition        0\n",
      "koi_score            1510\n",
      "koi_fpflag_nt           0\n",
      "koi_fpflag_ss           0\n",
      "koi_fpflag_co           0\n",
      "koi_fpflag_ec           0\n",
      "koi_period              0\n",
      "koi_period_err1       454\n",
      "koi_period_err2       454\n",
      "koi_time0bk             0\n",
      "koi_time0bk_err1      454\n",
      "koi_time0bk_err2      454\n",
      "koi_impact            363\n",
      "koi_impact_err1       454\n",
      "koi_impact_err2       454\n",
      "koi_duration            0\n",
      "koi_duration_err1     454\n",
      "koi_duration_err2     454\n",
      "koi_depth             363\n",
      "koi_depth_err1        454\n",
      "koi_depth_err2        454\n",
      "koi_prad              363\n",
      "koi_prad_err1         363\n",
      "koi_prad_err2         363\n",
      "koi_teq               363\n",
      "koi_teq_err1         9564\n",
      "koi_teq_err2         9564\n",
      "koi_insol             321\n",
      "koi_insol_err1        321\n",
      "koi_insol_err2        321\n",
      "koi_model_snr         363\n",
      "koi_tce_plnt_num      346\n",
      "koi_tce_delivname     346\n",
      "koi_steff             363\n",
      "koi_steff_err1        468\n",
      "koi_steff_err2        483\n",
      "koi_slogg             363\n",
      "koi_slogg_err1        468\n",
      "koi_slogg_err2        468\n",
      "koi_srad              363\n",
      "koi_srad_err1         468\n",
      "koi_srad_err2         468\n",
      "ra                      0\n",
      "dec                     0\n",
      "koi_kepmag              1\n",
      "dtype: int64\n",
      "K2 missing values:\n",
      " pl_name            0\n",
      "hostname           0\n",
      "default_flag       0\n",
      "disposition        0\n",
      "disp_refname       0\n",
      "                  ..\n",
      "sy_gaiamagerr1    56\n",
      "sy_gaiamagerr2    56\n",
      "rowupdate          0\n",
      "pl_pubdate         0\n",
      "releasedate        0\n",
      "Length: 94, dtype: int64\n"
     ]
    }
   ],
   "source": [
    "# Missing values\n",
    "print(\"Tess missing values:\\n\", tess_data.isnull().sum())\n",
    "print(\"Kepler missing values:\\n\", kepler_data.isnull().sum())\n",
    "print(\"K2 missing values:\\n\", k2_data.isnull().sum())"
   ]
  },
  {
   "cell_type": "markdown",
   "id": "c1c94f03",
   "metadata": {},
   "source": [
    "# 1. Target labels"
   ]
  },
  {
   "cell_type": "code",
   "execution_count": 11,
   "id": "97e99c9e",
   "metadata": {},
   "outputs": [
    {
     "data": {
      "text/plain": [
       "tfopwg_disp\n",
       "PC     4679\n",
       "FP     1197\n",
       "CP      684\n",
       "KP      583\n",
       "APC     462\n",
       "FA       98\n",
       "Name: count, dtype: int64"
      ]
     },
     "execution_count": 11,
     "metadata": {},
     "output_type": "execute_result"
    }
   ],
   "source": [
    "tess_data[\"tfopwg_disp\"].value_counts()"
   ]
  },
  {
   "cell_type": "code",
   "execution_count": 13,
   "id": "38e7e693",
   "metadata": {},
   "outputs": [
    {
     "data": {
      "text/plain": [
       "koi_disposition\n",
       "FALSE POSITIVE    4839\n",
       "CONFIRMED         2746\n",
       "CANDIDATE         1979\n",
       "Name: count, dtype: int64"
      ]
     },
     "execution_count": 13,
     "metadata": {},
     "output_type": "execute_result"
    }
   ],
   "source": [
    "kepler_data[\"koi_disposition\"].value_counts()"
   ]
  },
  {
   "cell_type": "code",
   "execution_count": 16,
   "id": "7d694eba",
   "metadata": {},
   "outputs": [
    {
     "data": {
      "text/plain": [
       "koi_pdisposition\n",
       "FALSE POSITIVE    4847\n",
       "CANDIDATE         4717\n",
       "Name: count, dtype: int64"
      ]
     },
     "execution_count": 16,
     "metadata": {},
     "output_type": "execute_result"
    }
   ],
   "source": [
    "kepler_data[\"koi_pdisposition\"].value_counts()"
   ]
  },
  {
   "cell_type": "code",
   "execution_count": 18,
   "id": "7331712e",
   "metadata": {},
   "outputs": [
    {
     "data": {
      "text/plain": [
       "disposition\n",
       "CONFIRMED         2315\n",
       "CANDIDATE         1374\n",
       "FALSE POSITIVE     293\n",
       "REFUTED             22\n",
       "Name: count, dtype: int64"
      ]
     },
     "execution_count": 18,
     "metadata": {},
     "output_type": "execute_result"
    }
   ],
   "source": [
    "k2_data[\"disposition\"].value_counts()"
   ]
  },
  {
   "cell_type": "code",
   "execution_count": null,
   "id": "38a9f3c1",
   "metadata": {},
   "outputs": [],
   "source": []
  }
 ],
 "metadata": {
  "kernelspec": {
   "display_name": ".venv",
   "language": "python",
   "name": "python3"
  },
  "language_info": {
   "codemirror_mode": {
    "name": "ipython",
    "version": 3
   },
   "file_extension": ".py",
   "mimetype": "text/x-python",
   "name": "python",
   "nbconvert_exporter": "python",
   "pygments_lexer": "ipython3",
   "version": "3.13.5"
  }
 },
 "nbformat": 4,
 "nbformat_minor": 5
}
