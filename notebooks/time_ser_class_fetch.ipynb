{
 "cells": [
  {
   "cell_type": "code",
   "execution_count": 1,
   "id": "d6004ea7",
   "metadata": {},
   "outputs": [],
   "source": [
    "import pandas as pd"
   ]
  },
  {
   "cell_type": "code",
   "execution_count": 2,
   "id": "f38d3a23",
   "metadata": {},
   "outputs": [],
   "source": [
    "tess_data = pd.read_csv(\"../data/TOI_2025.10.04_08.44.51.csv\", skiprows=69)\n"
   ]
  },
  {
   "cell_type": "code",
   "execution_count": 3,
   "id": "e4e92aed",
   "metadata": {},
   "outputs": [],
   "source": [
    "tess_data[[\"tid\", \"tfopwg_disp\"]].to_csv(\"../data/tess_labels.csv\", index=False)"
   ]
  },
  {
   "cell_type": "code",
   "execution_count": 4,
   "id": "ad349c03",
   "metadata": {},
   "outputs": [
    {
     "data": {
      "text/html": [
       "<div>\n",
       "<style scoped>\n",
       "    .dataframe tbody tr th:only-of-type {\n",
       "        vertical-align: middle;\n",
       "    }\n",
       "\n",
       "    .dataframe tbody tr th {\n",
       "        vertical-align: top;\n",
       "    }\n",
       "\n",
       "    .dataframe thead th {\n",
       "        text-align: right;\n",
       "    }\n",
       "</style>\n",
       "<table border=\"1\" class=\"dataframe\">\n",
       "  <thead>\n",
       "    <tr style=\"text-align: right;\">\n",
       "      <th></th>\n",
       "      <th>tid</th>\n",
       "      <th>tfopwg_disp</th>\n",
       "    </tr>\n",
       "  </thead>\n",
       "  <tbody>\n",
       "    <tr>\n",
       "      <th>0</th>\n",
       "      <td>50365310</td>\n",
       "      <td>FP</td>\n",
       "    </tr>\n",
       "    <tr>\n",
       "      <th>1</th>\n",
       "      <td>88863718</td>\n",
       "      <td>PC</td>\n",
       "    </tr>\n",
       "    <tr>\n",
       "      <th>2</th>\n",
       "      <td>124709665</td>\n",
       "      <td>FP</td>\n",
       "    </tr>\n",
       "    <tr>\n",
       "      <th>3</th>\n",
       "      <td>106997505</td>\n",
       "      <td>FP</td>\n",
       "    </tr>\n",
       "    <tr>\n",
       "      <th>4</th>\n",
       "      <td>238597883</td>\n",
       "      <td>FP</td>\n",
       "    </tr>\n",
       "  </tbody>\n",
       "</table>\n",
       "</div>"
      ],
      "text/plain": [
       "         tid tfopwg_disp\n",
       "0   50365310          FP\n",
       "1   88863718          PC\n",
       "2  124709665          FP\n",
       "3  106997505          FP\n",
       "4  238597883          FP"
      ]
     },
     "execution_count": 4,
     "metadata": {},
     "output_type": "execute_result"
    }
   ],
   "source": [
    "tess_labels = pd.read_csv(\"../data/tess_labels.csv\")\n",
    "tess_labels.head()"
   ]
  },
  {
   "cell_type": "code",
   "execution_count": 7,
   "id": "8b5f9335",
   "metadata": {},
   "outputs": [
    {
     "name": "stdout",
     "output_type": "stream",
     "text": [
      "✅ Saved processed data to: ../data/processed_tess/tess_data_20000.csv\n",
      "Shape: (4756, 20001)\n"
     ]
    }
   ],
   "source": [
    "import os\n",
    "import pandas as pd\n",
    "import numpy as np\n",
    "\n",
    "# Paths\n",
    "labels_path = \"../data/tess_labels.csv\"   # or your main labels file\n",
    "timeseries_folder = \"../data/data\"        # folder with time series files\n",
    "output_folder = \"../data/processed_tess\"\n",
    "output_csv = os.path.join(output_folder, \"tess_data_20000.csv\")\n",
    "\n",
    "# Create output folder if it doesn't exist\n",
    "os.makedirs(output_folder, exist_ok=True)\n",
    "\n",
    "# Read label file\n",
    "labels_df = pd.read_csv(labels_path)\n",
    "\n",
    "# Container for all observations\n",
    "data_list = []\n",
    "not_found_count = 0\n",
    "for _, row in labels_df.iterrows():\n",
    "    tid = row[\"tid\"]\n",
    "    label = row[\"tfopwg_disp\"]\n",
    "    file_path = os.path.join(timeseries_folder, f\"{tid}.csv\")\n",
    "\n",
    "    # Check if file exists\n",
    "    if not os.path.exists(file_path):\n",
    "        #print(f\"⚠️ File not found: {file_path}\")\n",
    "        not_found_count += 1\n",
    "        print(f\"⚠️ Not found count: {not_found_count}\", end=\"\\r\")\n",
    "        continue\n",
    "\n",
    "    # Read the time series file\n",
    "    ts = pd.read_csv(file_path)\n",
    "\n",
    "    # If the CSV has a single column, flatten it\n",
    "    if ts.shape[1] == 1:\n",
    "        values = ts.iloc[:, 0].values\n",
    "    else:\n",
    "        # If more columns exist, you can adjust this\n",
    "        values = ts.values.flatten()\n",
    "\n",
    "    # Take last 2000 points (or pad with NaNs if shorter)\n",
    "    last_points = values[-20000:]\n",
    "    if len(last_points) < 20000:\n",
    "        last_points = np.pad(last_points, (20000 - len(last_points), 0), constant_values=np.nan)\n",
    "\n",
    "    # Append class label\n",
    "    combined = np.append(last_points, label)\n",
    "    data_list.append(combined)\n",
    "\n",
    "# Convert to DataFrame\n",
    "final_df = pd.DataFrame(data_list)\n",
    "\n",
    "# Rename columns\n",
    "final_df.columns = [f\"p{i+1}\" for i in range(20000)] + [\"label\"]\n",
    "\n",
    "# Save to CSV\n",
    "final_df.to_csv(output_csv, index=False)\n",
    "\n",
    "print(f\"✅ Saved processed data to: {output_csv}\")\n",
    "print(f\"Shape: {final_df.shape}\")\n"
   ]
  },
  {
   "cell_type": "code",
   "execution_count": 8,
   "id": "b3484211",
   "metadata": {},
   "outputs": [
    {
     "data": {
      "text/plain": [
       "label\n",
       "PC     2733\n",
       "FP      787\n",
       "CP      486\n",
       "KP      391\n",
       "APC     298\n",
       "FA       61\n",
       "Name: count, dtype: int64"
      ]
     },
     "execution_count": 8,
     "metadata": {},
     "output_type": "execute_result"
    }
   ],
   "source": [
    "final_df[\"label\"].value_counts()"
   ]
  },
  {
   "cell_type": "code",
   "execution_count": 9,
   "id": "672b221e",
   "metadata": {},
   "outputs": [
    {
     "name": "stdout",
     "output_type": "stream",
     "text": [
      "✅ Saved filtered binary data to: ../data/processed_tess/tess_data_20000_filtered.csv\n",
      "Shape: (1725, 20001)\n",
      "label\n",
      "1    877\n",
      "0    848\n",
      "Name: count, dtype: int64\n"
     ]
    }
   ],
   "source": [
    "# Keep only desired labels\n",
    "valid_labels = [\"FP\", \"FA\", \"CP\", \"KP\"]\n",
    "filtered_df = final_df[final_df[\"label\"].isin(valid_labels)].copy()\n",
    "\n",
    "# Map to binary classes\n",
    "label_map = {\n",
    "    \"FP\": 0,\n",
    "    \"FA\": 0,\n",
    "    \"CP\": 1,\n",
    "    \"KP\": 1\n",
    "}\n",
    "filtered_df[\"label\"] = filtered_df[\"label\"].map(label_map).astype(int)\n",
    "\n",
    "# (Optional) save again\n",
    "output_csv_filtered = os.path.join(output_folder, \"tess_data_20000_filtered.csv\")\n",
    "filtered_df.to_csv(output_csv_filtered, index=False)\n",
    "\n",
    "print(f\"✅ Saved filtered binary data to: {output_csv_filtered}\")\n",
    "print(f\"Shape: {filtered_df.shape}\")\n",
    "print(filtered_df[\"label\"].value_counts())\n"
   ]
  },
  {
   "cell_type": "code",
   "execution_count": null,
   "id": "f5e7fc6f",
   "metadata": {},
   "outputs": [],
   "source": []
  }
 ],
 "metadata": {
  "kernelspec": {
   "display_name": ".venv",
   "language": "python",
   "name": "python3"
  },
  "language_info": {
   "codemirror_mode": {
    "name": "ipython",
    "version": 3
   },
   "file_extension": ".py",
   "mimetype": "text/x-python",
   "name": "python",
   "nbconvert_exporter": "python",
   "pygments_lexer": "ipython3",
   "version": "3.13.5"
  }
 },
 "nbformat": 4,
 "nbformat_minor": 5
}
